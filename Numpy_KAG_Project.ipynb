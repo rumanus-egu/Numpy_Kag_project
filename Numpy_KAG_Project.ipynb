{
  "nbformat": 4,
  "nbformat_minor": 0,
  "metadata": {
    "colab": {
      "name": "Numpy_KAG_Project.ipynb",
      "provenance": [],
      "collapsed_sections": []
    },
    "kernelspec": {
      "name": "python3",
      "display_name": "Python 3"
    },
    "language_info": {
      "name": "python"
    }
  },
  "cells": [
    {
      "cell_type": "code",
      "metadata": {
        "id": "T1HTq6FC8TYS"
      },
      "source": [
        "# Loading data from variable path\n",
        "import numpy as np"
      ],
      "execution_count": 2,
      "outputs": []
    },
    {
      "cell_type": "code",
      "metadata": {
        "colab": {
          "base_uri": "https://localhost:8080/"
        },
        "id": "ytOAe6ik853N",
        "outputId": "5b5c8bea-971a-4d52-9976-59f8f17516ef"
      },
      "source": [
        "data_file='/content/KAG_Conversion_Data.csv'\n",
        "data=np.genfromtxt(data_file,delimiter=',',encoding=None,skip_header=1,dtype=str)\n",
        "data_int=np.genfromtxt(data_file,delimiter=',',encoding=None,skip_header=1,dtype=int)\n",
        "print(data)\n",
        "print(data_int)"
      ],
      "execution_count": 3,
      "outputs": [
        {
          "output_type": "stream",
          "name": "stdout",
          "text": [
            "[['708746' '916' '103916' ... '1.429999948' '2' '1']\n",
            " ['708749' '916' '103917' ... '1.820000023' '2' '0']\n",
            " ['708771' '916' '103920' ... '0' '1' '0']\n",
            " ...\n",
            " ['1314412' '1178' '179979' ... '40.28999949' '2' '0']\n",
            " ['1314414' '1178' '179981' ... '198.7100005' '8' '2']\n",
            " ['1314415' '1178' '179982' ... '165.6099987' '5' '2']]\n",
            "[[ 708746     916  103916 ...      -1       2       1]\n",
            " [ 708749     916  103917 ...      -1       2       0]\n",
            " [ 708771     916  103920 ...       0       1       0]\n",
            " ...\n",
            " [1314412    1178  179979 ...      -1       2       0]\n",
            " [1314414    1178  179981 ...      -1       8       2]\n",
            " [1314415    1178  179982 ...      -1       5       2]]\n"
          ]
        }
      ]
    },
    {
      "cell_type": "code",
      "metadata": {
        "id": "9juaLUZC9Zew"
      },
      "source": [
        "#Determining the unique ad campaigns from the given data\n",
        "unique_ids=np.unique(data[: ,1])"
      ],
      "execution_count": 4,
      "outputs": []
    },
    {
      "cell_type": "code",
      "metadata": {
        "colab": {
          "base_uri": "https://localhost:8080/"
        },
        "id": "IMKjhwZI-zvr",
        "outputId": "a92593f3-deb9-4493-b696-8b7c56f92a9e"
      },
      "source": [
        "unique_ids"
      ],
      "execution_count": 5,
      "outputs": [
        {
          "output_type": "execute_result",
          "data": {
            "text/plain": [
              "array(['1178', '916', '936'], dtype='<U11')"
            ]
          },
          "metadata": {},
          "execution_count": 5
        }
      ]
    },
    {
      "cell_type": "markdown",
      "metadata": {
        "id": "jKatvDeB-5Sg"
      },
      "source": [
        "**Thus We have 3 unique ID campaigns**"
      ]
    },
    {
      "cell_type": "markdown",
      "metadata": {
        "id": "wJENUhuJza9f"
      },
      "source": [
        "**Determining the number of times each unique campaign was ran**"
      ]
    },
    {
      "cell_type": "code",
      "metadata": {
        "colab": {
          "base_uri": "https://localhost:8080/"
        },
        "id": "WB_lNsay-1Ar",
        "outputId": "bacf4014-8eeb-4359-b391-0f1d3f2102e3"
      },
      "source": [
        "len(data[data[:,1]=='916'])"
      ],
      "execution_count": 6,
      "outputs": [
        {
          "output_type": "execute_result",
          "data": {
            "text/plain": [
              "54"
            ]
          },
          "metadata": {},
          "execution_count": 6
        }
      ]
    },
    {
      "cell_type": "code",
      "metadata": {
        "colab": {
          "base_uri": "https://localhost:8080/"
        },
        "id": "WOBKt7BB_SRT",
        "outputId": "c6bafbbc-94a4-4217-d660-b76e87629c24"
      },
      "source": [
        "len(data[data[:,1]=='1178'])"
      ],
      "execution_count": 7,
      "outputs": [
        {
          "output_type": "execute_result",
          "data": {
            "text/plain": [
              "625"
            ]
          },
          "metadata": {},
          "execution_count": 7
        }
      ]
    },
    {
      "cell_type": "code",
      "metadata": {
        "colab": {
          "base_uri": "https://localhost:8080/"
        },
        "id": "-I_qEmUh_bfr",
        "outputId": "548167c2-3a68-4206-a8d8-7b429990231f"
      },
      "source": [
        "len(data[data[:,1]=='936'])"
      ],
      "execution_count": 8,
      "outputs": [
        {
          "output_type": "execute_result",
          "data": {
            "text/plain": [
              "464"
            ]
          },
          "metadata": {},
          "execution_count": 8
        }
      ]
    },
    {
      "cell_type": "markdown",
      "metadata": {
        "id": "8Qie7_MJz34f"
      },
      "source": [
        "**Determining the different age groups targeted through these ad campaign as fillows;**"
      ]
    },
    {
      "cell_type": "code",
      "metadata": {
        "colab": {
          "base_uri": "https://localhost:8080/"
        },
        "id": "Ybe3gKz-_gBl",
        "outputId": "346f2b16-17fe-406d-c4ca-aa61d45e7d72"
      },
      "source": [
        "age_groups=data[:,3]\n",
        "age_groups"
      ],
      "execution_count": 9,
      "outputs": [
        {
          "output_type": "execute_result",
          "data": {
            "text/plain": [
              "array(['30-34', '30-34', '30-34', ..., '45-49', '45-49', '45-49'],\n",
              "      dtype='<U11')"
            ]
          },
          "metadata": {},
          "execution_count": 9
        }
      ]
    },
    {
      "cell_type": "markdown",
      "metadata": {
        "id": "n2JwuX0F06Ud"
      },
      "source": [
        "**Deternining average, minimum and maximum amount spend on the ads**"
      ]
    },
    {
      "cell_type": "code",
      "metadata": {
        "colab": {
          "base_uri": "https://localhost:8080/"
        },
        "id": "hv7w_Id0_zwu",
        "outputId": "9869d7f5-6f6a-4d77-cc64-a92a57651f28"
      },
      "source": [
        "ads_amount=data_int[:,8]\n",
        "ads_amount"
      ],
      "execution_count": 10,
      "outputs": [
        {
          "output_type": "execute_result",
          "data": {
            "text/plain": [
              "array([-1, -1,  0, ..., -1, -1, -1])"
            ]
          },
          "metadata": {},
          "execution_count": 10
        }
      ]
    },
    {
      "cell_type": "code",
      "metadata": {
        "id": "JsJ4jFvtXpk7"
      },
      "source": [
        "#Average amount spend on ads"
      ],
      "execution_count": null,
      "outputs": []
    },
    {
      "cell_type": "code",
      "metadata": {
        "id": "H4hmc5_4AMbx"
      },
      "source": [
        "avg_amount=ads_amount.mean()"
      ],
      "execution_count": 11,
      "outputs": []
    },
    {
      "cell_type": "code",
      "metadata": {
        "colab": {
          "base_uri": "https://localhost:8080/"
        },
        "id": "3BN6MvY9AUUJ",
        "outputId": "26e72db1-7981-4f0f-e23b-e64a82cb3c74"
      },
      "source": [
        "avg_amount"
      ],
      "execution_count": 12,
      "outputs": [
        {
          "output_type": "execute_result",
          "data": {
            "text/plain": [
              "-0.7681539807524059"
            ]
          },
          "metadata": {},
          "execution_count": 12
        }
      ]
    },
    {
      "cell_type": "code",
      "metadata": {
        "colab": {
          "base_uri": "https://localhost:8080/"
        },
        "id": "oVyJmC3ZW9Ot",
        "outputId": "4b5be429-fe9b-4892-89b4-883af4a2a749"
      },
      "source": [
        "round(avg_amount,2)"
      ],
      "execution_count": 13,
      "outputs": [
        {
          "output_type": "execute_result",
          "data": {
            "text/plain": [
              "-0.77"
            ]
          },
          "metadata": {},
          "execution_count": 13
        }
      ]
    },
    {
      "cell_type": "code",
      "metadata": {
        "id": "9RG7B67gXu8L"
      },
      "source": [
        "# Minimum amount spent on ads"
      ],
      "execution_count": null,
      "outputs": []
    },
    {
      "cell_type": "code",
      "metadata": {
        "colab": {
          "base_uri": "https://localhost:8080/"
        },
        "id": "RAkdPldiX1lT",
        "outputId": "45559885-f573-4bfe-8b8d-cf9b22ecc816"
      },
      "source": [
        "min_amount=ads_amount.min()\n",
        "min_amount"
      ],
      "execution_count": 21,
      "outputs": [
        {
          "output_type": "execute_result",
          "data": {
            "text/plain": [
              "-1"
            ]
          },
          "metadata": {},
          "execution_count": 21
        }
      ]
    },
    {
      "cell_type": "code",
      "metadata": {
        "colab": {
          "base_uri": "https://localhost:8080/"
        },
        "id": "bQWFTsuWYQ6b",
        "outputId": "5d31d1d3-a73c-424d-de97-9bd12677bde6"
      },
      "source": [
        "max_amount=ads_amount.max()\n",
        "max_amount"
      ],
      "execution_count": 22,
      "outputs": [
        {
          "output_type": "execute_result",
          "data": {
            "text/plain": [
              "57"
            ]
          },
          "metadata": {},
          "execution_count": 22
        }
      ]
    },
    {
      "cell_type": "code",
      "metadata": {
        "id": "Po2xIVLLYhdc"
      },
      "source": [
        "# ID of ads with maximum number of clicks"
      ],
      "execution_count": null,
      "outputs": []
    },
    {
      "cell_type": "code",
      "metadata": {
        "id": "hVYrlqTpAkLt"
      },
      "source": [
        "max_clicks=np.max(data_int[:,7])"
      ],
      "execution_count": 14,
      "outputs": []
    },
    {
      "cell_type": "code",
      "metadata": {
        "colab": {
          "base_uri": "https://localhost:8080/"
        },
        "id": "D00sr5j9COl6",
        "outputId": "98cc8203-1b27-4c04-e0e8-955a7223e15e"
      },
      "source": [
        "int(max_clicks)"
      ],
      "execution_count": 15,
      "outputs": [
        {
          "output_type": "execute_result",
          "data": {
            "text/plain": [
              "421"
            ]
          },
          "metadata": {},
          "execution_count": 15
        }
      ]
    },
    {
      "cell_type": "code",
      "metadata": {
        "colab": {
          "base_uri": "https://localhost:8080/"
        },
        "id": "klt_KqtSCTfA",
        "outputId": "8f62e8f4-fc2a-4562-d9ec-a6942fbdc6b0"
      },
      "source": [
        "int(data_int[:,0][data_int[:,7]==421])"
      ],
      "execution_count": 16,
      "outputs": [
        {
          "output_type": "execute_result",
          "data": {
            "text/plain": [
              "1121814"
            ]
          },
          "metadata": {},
          "execution_count": 16
        }
      ]
    },
    {
      "cell_type": "code",
      "metadata": {
        "colab": {
          "base_uri": "https://localhost:8080/"
        },
        "id": "poCrnC_qC-bI",
        "outputId": "01afd6f6-7de3-43c7-cdee-bd1d6422a909"
      },
      "source": [
        "int(data_int[:,10][data_int[:,7]==421])"
      ],
      "execution_count": 17,
      "outputs": [
        {
          "output_type": "execute_result",
          "data": {
            "text/plain": [
              "13"
            ]
          },
          "metadata": {},
          "execution_count": 17
        }
      ]
    },
    {
      "cell_type": "code",
      "metadata": {
        "id": "fs4WGi8aZ-q9"
      },
      "source": [
        "# Number of people who bought the product of seeing the add with most clicks"
      ],
      "execution_count": null,
      "outputs": []
    },
    {
      "cell_type": "code",
      "metadata": {
        "id": "64CCGV2ZD7i3"
      },
      "source": [
        "max_purchases=np.max(data_int[:,10])"
      ],
      "execution_count": 18,
      "outputs": []
    },
    {
      "cell_type": "code",
      "metadata": {
        "colab": {
          "base_uri": "https://localhost:8080/"
        },
        "id": "FyTgD4XZEb4U",
        "outputId": "0df17199-28d6-4c2b-841a-a4c5142c05b7"
      },
      "source": [
        "max_purchases"
      ],
      "execution_count": 19,
      "outputs": [
        {
          "output_type": "execute_result",
          "data": {
            "text/plain": [
              "21"
            ]
          },
          "metadata": {},
          "execution_count": 19
        }
      ]
    },
    {
      "cell_type": "code",
      "metadata": {
        "id": "SgNlEDGHZytM"
      },
      "source": [
        "# Details of product with maximum number of purchase"
      ],
      "execution_count": null,
      "outputs": []
    },
    {
      "cell_type": "code",
      "metadata": {
        "colab": {
          "base_uri": "https://localhost:8080/"
        },
        "id": "gjn_y05pEd0q",
        "outputId": "a0f6239a-0f46-4aaf-8644-dcafac40e80f"
      },
      "source": [
        "data_int[data_int[:,10]==21]"
      ],
      "execution_count": 20,
      "outputs": [
        {
          "output_type": "execute_result",
          "data": {
            "text/plain": [
              "array([[1121104,    1178,  144533,      -1,      -1,      16, 2080666,\n",
              "            202,      -1,      40,      21]])"
            ]
          },
          "metadata": {},
          "execution_count": 20
        }
      ]
    }
  ]
}